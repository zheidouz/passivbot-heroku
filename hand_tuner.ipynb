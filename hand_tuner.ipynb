{
 "cells": [
  {
   "cell_type": "code",
   "execution_count": null,
   "id": "5d04cc5b-ff14-4d8a-8b01-36d4935897ca",
   "metadata": {},
   "outputs": [],
   "source": [
    "%load_ext autoreload\n",
    "%autoreload 2"
   ]
  },
  {
   "cell_type": "code",
   "execution_count": null,
   "id": "38c240d7-c65b-457b-a10f-7a8f24dccf96",
   "metadata": {
    "tags": []
   },
   "outputs": [],
   "source": [
    "from backtest import backtest\n",
    "from plotting import plot_fills\n",
    "from downloader import Downloader, prep_config\n",
    "from pure_funcs import denumpyize, numpyize, get_template_live_config, candidate_to_live_config, calc_spans, get_template_live_config, analyze_fills, \\\n",
    "    create_xk, round_dynamic\n",
    "from njit_funcs import calc_emas, calc_long_orders, round_, calc_bankruptcy_price, calc_diff\n",
    "from procedures import dump_live_config, load_live_config, add_argparse_args, prep_config, make_get_filepath\n",
    "from time import time\n",
    "import sys\n",
    "import argparse\n",
    "import pprint\n",
    "import matplotlib.pyplot as plt\n",
    "import json\n",
    "import pandas as pd\n",
    "import numpy as np"
   ]
  },
  {
   "cell_type": "code",
   "execution_count": null,
   "id": "c81212aa-6395-46b5-9b57-f6a8d7faa245",
   "metadata": {},
   "outputs": [],
   "source": [
    "plt.rcParams['figure.figsize'] = [29, 18]\n",
    "pd.set_option('precision', 10)"
   ]
  },
  {
   "cell_type": "code",
   "execution_count": null,
   "id": "457aed4f-fa83-4cd9-bd74-d6c89b4e269d",
   "metadata": {
    "scrolled": true,
    "tags": []
   },
   "outputs": [],
   "source": [
    "class Args:\n",
    "    def __init__(self):\n",
    "        self.backtest_config_path = 'configs/backtest/default.hjson'\n",
    "        self.optimize_config_path = 'configs/optimize/default.hjson'\n",
    "        self.exchange = 'binance'\n",
    "        self.symbol = 'XMRUSDT'\n",
    "        self.market_type = 'futures'\n",
    "        self.user = 'your_user_name'\n",
    "        self.start_date = '2021-06-01'\n",
    "        self.end_date = '2021-06-29'\n",
    "        self.starting_balance = 1000.0\n",
    "        self.starting_configs = ''\n",
    "        self.base_dir = 'backtests'\n",
    "config_list = await prep_config(Args())\n",
    "config = config_list[0]\n",
    "dl = Downloader(config)\n",
    "sts = time()\n",
    "data = await dl.get_sampled_ticks()\n",
    "timestamps = data[:, 0]\n",
    "qtys = data[:, 1]\n",
    "prices = data[:, 2]\n",
    "config['n_days'] = (timestamps[-1] - timestamps[0]) / (1000 * 60 * 60 * 24)\n",
    "\n",
    "print(f'millis to load {len(prices)} ticks {(time() - sts) * 1000:.0f}ms')"
   ]
  },
  {
   "cell_type": "code",
   "execution_count": null,
   "id": "f38d8fd3-ccf4-4465-837b-24abaa121cee",
   "metadata": {},
   "outputs": [],
   "source": [
    "df = pd.DataFrame({'timestamp': timestamps, 'qty': qtys, 'price': prices}).set_index('timestamp')\n",
    "df"
   ]
  },
  {
   "cell_type": "code",
   "execution_count": null,
   "id": "7239f8ed-1096-41ba-809b-00bb188ceb97",
   "metadata": {},
   "outputs": [],
   "source": [
    "# choose a slice on which to test\n",
    "wsize_days = 240\n",
    "ts = int(data[-1][0] - 60 * 60 * 24 * 1000 * wsize_days)\n",
    "idx = np.argmax(data[:, 0] >= ts)\n",
    "dataslice = data[idx:]"
   ]
  },
  {
   "cell_type": "code",
   "execution_count": null,
   "id": "4e3fb767-6167-461c-b601-8b0f45b0d8ab",
   "metadata": {},
   "outputs": [],
   "source": [
    "template = \\\n",
    "    {\"config_name\": \"hand_tuned\",\n",
    "     \"logging_level\": 0,\n",
    "     \"long\": {\"enabled\": True,\n",
    "              \"iprc_MAr_coeffs\": [[0, 0], [0, 0], [0, 0]],\n",
    "              \"iprc_const\": 0.995,\n",
    "              \"iqty_MAr_coeffs\": [[0, 0], [0, 0], [0, 0]],\n",
    "              \"iqty_const\": 0.005,\n",
    "              \"pbr_limit\": 1.8,\n",
    "              \"markup_MAr_coeffs\": [[0, 0], [0, 0], [0, 0]],\n",
    "              \"markup_const\": 1.005,\n",
    "              \"rprc_MAr_coeffs\": [[0, 0], [0, 0], [0, 0]],\n",
    "              \"rprc_PBr_coeffs\": [[-0.0, -0.2]],\n",
    "              \"rprc_const\": 0.995,\n",
    "              \"rqty_MAr_coeffs\": [[0, 0], [0, 0], [0, 0]],\n",
    "              \"rqty_const\": 1.3,\n",
    "              \"pbr_stop_loss\": 0.2},\n",
    "     \"max_span\": 60 * 24 * 2,\n",
    "     \"min_span\": 60 * 7,\n",
    "     \"n_spans\": 3,\n",
    "     \"shrt\": {\"enabled\": True,\n",
    "              \"iprc_MAr_coeffs\": [[0, 0], [0, 0], [0, 0]],\n",
    "              \"iprc_const\": 1.01,\n",
    "              \"iqty_MAr_coeffs\": [[0, 0], [0, 0], [0, 0]],\n",
    "              \"iqty_const\": 0.005,\n",
    "              \"pbr_limit\": 1.8,\n",
    "              \"markup_MAr_coeffs\": [[0, 0], [0, 0], [0, 0]],\n",
    "              \"markup_const\": 0.995,\n",
    "              \"rprc_MAr_coeffs\": [[0, 0], [0, 0], [0, 0]],\n",
    "              \"rprc_PBr_coeffs\": [[0.0, 0.2]],\n",
    "              \"rprc_const\": 1.005,\n",
    "              \"rqty_MAr_coeffs\": [[0, 0], [0, 0], [0, 0]],\n",
    "              \"rqty_const\": 1.3,\n",
    "              \"pbr_stop_loss\": 0.2}}\n",
    "\n",
    "config['starting_balance'] = 1000.0\n",
    "\n",
    "config_to_test = {**config, **numpyize(template)}\n",
    "dump_live_config(config_to_test, make_get_filepath('tmp/hand_tuned.json'))"
   ]
  },
  {
   "cell_type": "code",
   "execution_count": null,
   "id": "70102f1a-0324-4920-ac0f-253c4b4ecd5d",
   "metadata": {},
   "outputs": [],
   "source": [
    "sts = time()\n",
    "fills, info = backtest(config_to_test, dataslice)\n",
    "elapsed = time() - sts\n",
    "print(f'seconds elapsed {elapsed:.4f}')\n",
    "print(f'did finish {info[0]}, lowest eqbal ratio {info[1]:.4f}, closest bkr {info[2]:.4f}')\n",
    "result = {**config_to_test, **{'lowest_eqbal_ratio': info[1], 'closest_bkr': info[2]}}\n",
    "sample_size_ms = dataslice[1][0] - dataslice[0][0]\n",
    "max_span_ito_n_samples = int(config_to_test['max_span'] * 60 / (sample_size_ms / 1000))\n",
    "fdf, analysis = analyze_fills(fills, result, dataslice[max_span_ito_n_samples][0], dataslice[-1][0])\n",
    "pprint.pprint(analysis)\n",
    "fdf"
   ]
  },
  {
   "cell_type": "code",
   "execution_count": null,
   "id": "32b2dc74-24e4-487b-bdcb-d30281e3cf12",
   "metadata": {},
   "outputs": [],
   "source": [
    "plot_fills(df, fdf)"
   ]
  },
  {
   "cell_type": "code",
   "execution_count": null,
   "id": "c7c9c3fd-9722-4c09-abb7-aa2eace8b8b9",
   "metadata": {},
   "outputs": [],
   "source": [
    "fdf.balance.plot()\n",
    "fdf.equity.plot()"
   ]
  },
  {
   "cell_type": "code",
   "execution_count": null,
   "id": "4aa9d609-ccd2-4ae5-862e-0d8758ee4953",
   "metadata": {},
   "outputs": [],
   "source": [
    "fdf.psize.plot()"
   ]
  },
  {
   "cell_type": "code",
   "execution_count": null,
   "id": "141dce52-5abb-44c8-91e8-18565d13c89d",
   "metadata": {},
   "outputs": [],
   "source": [
    "periodic_gain_n_days = 1\n",
    "groups = fdf.groupby(fdf.timestamp // (1000 * 60 * 60 * 24 * periodic_gain_n_days))\n",
    "pgs = groups.pnl.sum() / groups.balance.first()\n",
    "pgs = pgs.reindex(np.arange(pgs.index[0], pgs.index[-1])).fillna(0.0)\n",
    "pg_mean = pgs.mean()\n",
    "pgs.plot()\n",
    "plt.plot([pgs.index[0], pgs.index[-1]], [pg_mean, pg_mean])\n",
    "print(f'mean {pg_mean:.4f}')\n",
    "pgs"
   ]
  },
  {
   "cell_type": "code",
   "execution_count": null,
   "id": "982b3c55-eec3-48dc-b641-8420a6253a6d",
   "metadata": {},
   "outputs": [],
   "source": [
    "\n",
    "# plot MA bands given spans\n",
    "spans = calc_spans(*[config_to_test[k] for k in ['min_span', 'max_span', 'n_spans']])\n",
    "print('spans', spans)\n",
    "emas = pd.DataFrame({str(span): df.price.ewm(span=span * 60, adjust=False).mean() for span in spans})\n",
    "lband = emas.min(axis=1)\n",
    "uband = emas.max(axis=1)\n",
    "df.price.iloc[::100].plot()\n",
    "uband.iloc[::100].plot()\n",
    "lband.iloc[::100].plot()\n"
   ]
  },
  {
   "cell_type": "code",
   "execution_count": null,
   "id": "f6c375c9-cccf-4bb7-95e4-f7e4bba5de5f",
   "metadata": {},
   "outputs": [],
   "source": []
  },
  {
   "cell_type": "code",
   "execution_count": null,
   "id": "634de0d5-df1f-4e53-bd9e-362b5fc39f04",
   "metadata": {},
   "outputs": [],
   "source": [
    "# manual grid design\n",
    "# modify parameters to see resulting grid\n",
    "# long only"
   ]
  },
  {
   "cell_type": "code",
   "execution_count": null,
   "id": "bdc01646-5eeb-4c8f-ae55-8d5c9aa23f34",
   "metadata": {},
   "outputs": [],
   "source": [
    "xk = create_xk(config_to_test)\n",
    "spot = xk['spot']\n",
    "inverse = xk['inverse']\n",
    "qty_step = xk['qty_step']\n",
    "price_step = xk['price_step']\n",
    "min_qty = xk['min_qty']\n",
    "min_cost = xk['min_cost']\n",
    "c_mult = xk['c_mult']\n",
    "pbr_stop_loss = xk['pbr_stop_loss'][0]\n",
    "pbr_limit = xk['pbr_limit'][0]\n",
    "iqty_const = xk['iqty_const'][0]\n",
    "iprc_const = xk['iprc_const'][0]\n",
    "rqty_const = xk['rqty_const'][0]\n",
    "rprc_const = xk['rprc_const'][0]\n",
    "markup_const = xk['markup_const'][0]\n",
    "iqty_MAr_coeffs = xk['iqty_MAr_coeffs'][0]\n",
    "iprc_MAr_coeffs = xk['iprc_MAr_coeffs'][0]\n",
    "rprc_PBr_coeffs = xk['rprc_PBr_coeffs'][0]\n",
    "rqty_MAr_coeffs = xk['rqty_MAr_coeffs'][0]\n",
    "rprc_MAr_coeffs = xk['rprc_MAr_coeffs'][0]\n",
    "markup_MAr_coeffs = xk['markup_MAr_coeffs'][0]"
   ]
  },
  {
   "cell_type": "code",
   "execution_count": null,
   "id": "d4225b47-9856-41ca-85d9-c4ab17526b2a",
   "metadata": {},
   "outputs": [],
   "source": [
    "balance = 1000.0\n",
    "long_psize = 0.0\n",
    "long_pprice = 0.0\n",
    "highest_bid = prices[-1]\n",
    "lowest_ask = prices[-1]\n",
    "MA_band_lower = prices[-1]\n",
    "MA_band_upper = prices[-1]\n",
    "MA_ratios = np.array([1.0, 1.0, 1.0])\n",
    "available_margin = 2000.0\n",
    "\n",
    "'''\n",
    "pbr_limit = config_to_test['long']['pbr_limit']\n",
    "iqty_const = config_to_test['long']['iqty_const']\n",
    "iprc_const = config_to_test['long']['iprc_const']\n",
    "rqty_const = config_to_test['long']['rqty_const']\n",
    "rprc_const = config_to_test['long']['rprc_const']\n",
    "rprc_PBr_coeffs = config_to_test['long']['rprc_PBr_coeffs']\n",
    "\n",
    "'''\n",
    "\n",
    "\n",
    "orders = []\n",
    "\n",
    "print(\"qty          price          psize         pprice        pprice / price ratio    pbr        bkr diff\")\n",
    "for k in range(10):\n",
    "    long_entry, long_close = calc_long_orders(\n",
    "        balance,\n",
    "        long_psize,\n",
    "        long_pprice,\n",
    "        highest_bid,\n",
    "        lowest_ask,\n",
    "        MA_band_lower,\n",
    "        MA_band_upper,\n",
    "        MA_ratios,\n",
    "        available_margin,\n",
    "\n",
    "        spot,\n",
    "        inverse,\n",
    "        qty_step,\n",
    "        price_step,\n",
    "        min_qty,\n",
    "        min_cost,\n",
    "        c_mult,\n",
    "        pbr_stop_loss,\n",
    "        pbr_limit,\n",
    "        iqty_const,\n",
    "        iprc_const,\n",
    "        rqty_const,\n",
    "        rprc_const,\n",
    "        markup_const,\n",
    "        iqty_MAr_coeffs,\n",
    "        iprc_MAr_coeffs,\n",
    "        rprc_PBr_coeffs,\n",
    "        rqty_MAr_coeffs,\n",
    "        rprc_MAr_coeffs,\n",
    "        markup_MAr_coeffs)\n",
    "    \n",
    "    \n",
    "    new_long_psize = long_psize + long_entry[0]\n",
    "    long_pprice = long_entry[1] * (long_entry[0] / new_long_psize) + long_pprice * (long_psize / new_long_psize)\n",
    "    long_psize = new_long_psize\n",
    "    long_pcost = long_psize * long_pprice\n",
    "    bkr_price = calc_bankruptcy_price(balance,\n",
    "                          long_psize,\n",
    "                          long_pprice,\n",
    "                          0.0,\n",
    "                          0.0,\n",
    "                          inverse, c_mult)\n",
    "    bkr_diff = calc_diff(bkr_price, long_pprice)\n",
    "    pbr = long_pcost / balance\n",
    "    if pbr > pbr_limit or long_entry[0] == 0.0:\n",
    "        break\n",
    "    print(f\"{long_entry[0]: <12} {long_entry[1]: <14} {long_psize: <12}  {round_(long_pprice, price_step): <14}\"\n",
    "          f\"{round(long_pprice / long_entry[1], 4): <23} {round(pbr, 4): <10} {round(bkr_diff, 6)}\")\n",
    "    orders.append(long_entry)\n",
    "print()\n",
    "orders = numpyize(orders)\n",
    "entry_prices = orders[:,1].astype(float)\n",
    "print('grid range', entry_prices[0] / entry_prices[-1])\n",
    "print('dist between grid entries', entry_prices[:-1] / entry_prices[1:])"
   ]
  },
  {
   "cell_type": "code",
   "execution_count": null,
   "id": "bac82031-0281-49d9-ae54-f039c5c9698d",
   "metadata": {},
   "outputs": [],
   "source": [
    "n_days_ = 14\n",
    "nticks = len(df[df.index > (time() - 60 * 60 * 24 * n_days_) * 1000])\n",
    "print('n ticks', nticks)\n",
    "edf = pd.DataFrame({p: np.repeat(p, nticks) for p in entry_prices}, index=df.index[-nticks:]).join(df.price.iloc[-nticks:])\n",
    "edf.iloc[::100].plot()"
   ]
  },
  {
   "cell_type": "code",
   "execution_count": null,
   "id": "6cfc5d02-e379-4bee-b01f-8ec6531cdc02",
   "metadata": {},
   "outputs": [],
   "source": []
  },
  {
   "cell_type": "code",
   "execution_count": null,
   "id": "a59c9de4-2cbb-42f2-9c34-267aca072f92",
   "metadata": {},
   "outputs": [],
   "source": [
    "# simplified grid design, ignoring MAr coeffs and rounding\n",
    "# entry grid is designed by adjusting parameters iqty, rqty, rprc, rqty_pbr_coeffs"
   ]
  },
  {
   "cell_type": "code",
   "execution_count": null,
   "id": "b259e553-3f0f-4c91-b65e-6fdfb57da6b0",
   "metadata": {},
   "outputs": [],
   "source": [
    "def calc_entry(balance, psize, pprice, initial_entry_price, iqty, rqty, rprc, rqty_pbr_coeffs):\n",
    "    qty = (balance / initial_entry_price) * iqty\n",
    "    if psize == 0.0:\n",
    "        return qty, initial_entry_price\n",
    "    pbr = psize * pprice / balance\n",
    "    qty += psize * rqty\n",
    "    return qty, pprice * (rprc + pbr**2 * rqty_pbr_coeffs[0] + pbr * rqty_pbr_coeffs[1])\n"
   ]
  },
  {
   "cell_type": "code",
   "execution_count": null,
   "id": "f5292ba1-a381-4dea-b22e-e9b47332785c",
   "metadata": {},
   "outputs": [],
   "source": [
    "balance = 1000\n",
    "psize = 0.0\n",
    "pprice = 0.0\n",
    "pbr = 0.0\n",
    "initial_entry_price = 34000.0\n",
    "iqty = 0.001\n",
    "rqty = 1.3\n",
    "rprc = 0.995\n",
    "pbr_limit = 2.0\n",
    "rqty_pbr_coeffs = (-0.012, -0.012)\n",
    "orders = []\n",
    "while pbr < pbr_limit:\n",
    "    entry_qty, entry_price = calc_entry(balance, psize, pprice, initial_entry_price, iqty, rqty, rprc, rqty_pbr_coeffs)\n",
    "    new_psize = psize + entry_qty\n",
    "    pprice = pprice * (psize / new_psize) + entry_price * (entry_qty / new_psize)\n",
    "    psize = new_psize\n",
    "    pbr = psize * pprice / balance\n",
    "    orders.append((entry_qty, entry_price, psize, pprice, pbr))\n",
    "    \n",
    "gdf = pd.DataFrame(orders, columns=['qty', 'price', 'psize', 'pprice', 'pbr'])\n",
    "gdf.loc[:, 'prev_prc_dist'] = 1 - gdf.price / gdf.price.shift(1)\n",
    "gdf.loc[:, 'pprice_price_ratio'] = gdf.pprice / gdf.price\n",
    "\n",
    "print(f'grid range {(1 - gdf.price.iloc[-1] / gdf.price.iloc[0]) * 100:.4}%')\n",
    "gdf"
   ]
  },
  {
   "cell_type": "code",
   "execution_count": null,
   "id": "4c0c9ec9-b9f1-4107-b71d-cccda94320b9",
   "metadata": {},
   "outputs": [],
   "source": []
  },
  {
   "cell_type": "code",
   "execution_count": null,
   "id": "9952f822-03f3-4df6-a709-5b2a43af28df",
   "metadata": {},
   "outputs": [],
   "source": []
  },
  {
   "cell_type": "code",
   "execution_count": null,
   "id": "34759d76-d584-4356-a95c-e6d7c3f9e379",
   "metadata": {},
   "outputs": [],
   "source": [
    "# bancor"
   ]
  },
  {
   "cell_type": "code",
   "execution_count": null,
   "id": "8e4a0ce5-cc30-4687-bada-5294a27c1501",
   "metadata": {},
   "outputs": [],
   "source": [
    "from njit_funcs import njit_backtest_bancor"
   ]
  },
  {
   "cell_type": "code",
   "execution_count": null,
   "id": "7e38842a-09f0-4146-bca3-f4f486c9af16",
   "metadata": {},
   "outputs": [],
   "source": [
    "# test on data whose first price equals last price\n",
    "if data[0][2] > data[-1][2]:\n",
    "    for i in range(len(data)):\n",
    "        if data[i][2] <= data[-1][2]:\n",
    "            break\n",
    "else:\n",
    "    for i in range(len(data)):\n",
    "        if data[i][2] >= data[-1][2]:\n",
    "            break\n",
    "plt.plot(data[i:,2])\n",
    "i"
   ]
  },
  {
   "cell_type": "code",
   "execution_count": null,
   "id": "e3158a4d-0059-43fb-ae09-25f063d40ca2",
   "metadata": {},
   "outputs": [],
   "source": [
    "# ticks = data\n",
    "ticks = data[i:]\n",
    "starting_balance = 2.0 # in terms of quote\n",
    "latency_simulation_ms = 1000.0 # ms\n",
    "maker_fee = 0.00075  # with bnb discount\n",
    "maker_fee = 0.0\n",
    "\n",
    "qty_step = config['qty_step']\n",
    "price_step = config['price_step']\n",
    "min_qty = config['min_qty']\n",
    "min_cost = config['min_cost']\n",
    "spans = calc_spans(600, 10000, 3)\n",
    "spans = calc_spans(1, 1, 3)\n",
    "qty_pct = 0.000001\n",
    "bancor_price_spread = 0.01\n",
    "MA_band_spread = -1.0  # disable ema bands"
   ]
  },
  {
   "cell_type": "code",
   "execution_count": null,
   "id": "9a11f263-4b6a-4ce9-bda2-6fff09f6b936",
   "metadata": {},
   "outputs": [],
   "source": [
    "fills = njit_backtest_bancor(\n",
    "    ticks,\n",
    "    starting_balance,\n",
    "    latency_simulation_ms,\n",
    "    maker_fee,\n",
    "    qty_step,\n",
    "    price_step,\n",
    "    min_qty,\n",
    "    min_cost,\n",
    "    spans,\n",
    "    qty_pct,\n",
    "    bancor_price_spread,\n",
    "    MA_band_spread\n",
    ")\n",
    "fdf = pd.DataFrame(fills)\n",
    "fdf.columns = ['trade_id', 'timestamp', 'fee_paid', 'fee_token', 'qty', 'price', 'quot_balance', 'coin_balance', 'type']\n",
    "fdf = fdf.set_index('timestamp')\n",
    "fdf.loc[:, 'bancor_price'] = fdf.quot_balance / fdf.coin_balance\n",
    "cgain = fdf.coin_balance.iloc[-1] / fdf.coin_balance.iloc[0]\n",
    "qgain = fdf.quot_balance.iloc[-1] / fdf.quot_balance.iloc[0]\n",
    "cqmean = (cgain + qgain) / 2\n",
    "n_weeks = (fdf.index[-1] - fdf.index[0]) / 1000 / 60 / 60 / 24 / 7\n",
    "buys = fdf[fdf.type.str.contains('bid')]\n",
    "sels = fdf[fdf.type.str.contains('ask')]\n",
    "bvwap = (buys.qty * buys.price).sum() / buys.qty.sum()\n",
    "svwap = (sels.qty * sels.price).sum() / sels.qty.sum()\n",
    "vol = fdf.qty.abs().sum()\n",
    "monthly_vol = vol / (n_weeks / 4)\n",
    "\n",
    "\n",
    "print(f'cgain   {round_dynamic(cgain, 5)}')\n",
    "print(f'qgain   {round_dynamic(qgain, 5)}')\n",
    "print(f'cqmean  {round_dynamic(cqmean, 5)}')\n",
    "print(f'n weeks {round_dynamic(n_weeks, 4)}')\n",
    "print()\n",
    "print(f'weekly  {round_dynamic(cqmean**(1 / n_weeks), 5)}')\n",
    "print()\n",
    "print(f'bvwap   {round_dynamic(bvwap, 5)}')\n",
    "print(f'svwap   {round_dynamic(svwap, 5)}')\n",
    "print(f'sbratio {round_dynamic(svwap / bvwap, 5)}')\n",
    "print(f'n_fills {len(fills)}')\n",
    "print(f'vol     {round_dynamic(vol, 4)}')\n",
    "print(f'm vol   {round_dynamic(monthly_vol, 4)}')\n",
    "\n"
   ]
  },
  {
   "cell_type": "code",
   "execution_count": null,
   "id": "428924a0-7bce-4ea8-ae8c-77f48872ef3c",
   "metadata": {},
   "outputs": [],
   "source": [
    "dfc = df[df.index >= fdf.index[0]]\n",
    "dfc.price.iloc[::100].plot()\n",
    "fdf.bancor_price.plot()\n",
    "buys.price.plot(style='b.')\n",
    "sels.price.plot(style='r.')\n"
   ]
  },
  {
   "cell_type": "code",
   "execution_count": null,
   "id": "41c202e4-783f-4be9-a9fe-632a26b32201",
   "metadata": {},
   "outputs": [],
   "source": [
    "quotn = fdf.quot_balance / fdf.quot_balance.iloc[0]\n",
    "coinn = fdf.coin_balance / fdf.coin_balance.iloc[0]\n",
    "qcmean = (quotn + coinn) / 2\n",
    "quotn.plot()\n",
    "coinn.plot()\n",
    "qcmean.plot()"
   ]
  },
  {
   "cell_type": "code",
   "execution_count": null,
   "id": "3ac33101-c046-4812-8a12-0aa20d952655",
   "metadata": {},
   "outputs": [],
   "source": [
    "qcmean.plot()"
   ]
  },
  {
   "cell_type": "code",
   "execution_count": null,
   "id": "dcb49313-52bb-4d25-8eef-67118ce8cfb7",
   "metadata": {},
   "outputs": [],
   "source": [
    "fdf"
   ]
  },
  {
   "cell_type": "code",
   "execution_count": null,
   "id": "32cbafe6-165e-460e-a70d-94bdf63b6f14",
   "metadata": {},
   "outputs": [],
   "source": []
  },
  {
   "cell_type": "code",
   "execution_count": null,
   "id": "eae4f02f-b304-4314-80ec-ec718e675daa",
   "metadata": {},
   "outputs": [],
   "source": []
  },
  {
   "cell_type": "code",
   "execution_count": null,
   "id": "a2ffc356-8c2a-44f2-8e06-42c2a9e6fa76",
   "metadata": {},
   "outputs": [],
   "source": []
  },
  {
   "cell_type": "code",
   "execution_count": null,
   "id": "90f68f77-e4d5-43a7-a27b-90a97c647498",
   "metadata": {},
   "outputs": [],
   "source": []
  },
  {
   "cell_type": "code",
   "execution_count": null,
   "id": "e4a9ba9c-494f-439d-b485-a509c914353b",
   "metadata": {},
   "outputs": [],
   "source": []
  },
  {
   "cell_type": "code",
   "execution_count": null,
   "id": "17853327-6043-4258-afe1-87e7973be435",
   "metadata": {},
   "outputs": [],
   "source": [
    "# load external fills to inspect\n",
    "\n",
    "fdf = pd.read_csv('backtests/binance/BTSUSDT/plots/2021-06-12T114030/fills.csv').set_index('trade_id')"
   ]
  },
  {
   "cell_type": "code",
   "execution_count": null,
   "id": "dfb05d81-3e38-416a-93bd-0cc1c6af1c16",
   "metadata": {},
   "outputs": [],
   "source": [
    "longs = fdf[fdf.type.str.contains('long')]\n",
    "shrts = fdf[fdf.type.str.contains('shrt')]"
   ]
  },
  {
   "cell_type": "code",
   "execution_count": null,
   "id": "60d450b1-cb1c-47c6-8263-5f4770592ac2",
   "metadata": {},
   "outputs": [],
   "source": [
    "longs"
   ]
  },
  {
   "cell_type": "code",
   "execution_count": null,
   "id": "6efb0912-5ddf-49d2-b94d-5cdbc7037ab4",
   "metadata": {},
   "outputs": [],
   "source": []
  },
  {
   "cell_type": "code",
   "execution_count": null,
   "id": "e5acae26-67ff-46a3-9382-187e22dea8f6",
   "metadata": {},
   "outputs": [],
   "source": [
    "longs.tail(60)"
   ]
  },
  {
   "cell_type": "code",
   "execution_count": null,
   "id": "66b38c53-cc0b-4aef-81af-6a230b775c81",
   "metadata": {},
   "outputs": [],
   "source": [
    "plot_fills(df, fdf)"
   ]
  },
  {
   "cell_type": "code",
   "execution_count": null,
   "id": "95f4974c-3d0e-4043-8b58-61b1d810aefe",
   "metadata": {},
   "outputs": [],
   "source": [
    "fdf.balance.plot()\n",
    "fdf.equity.plot()"
   ]
  },
  {
   "cell_type": "code",
   "execution_count": null,
   "id": "2e9d8220-34ca-4b96-beb5-0124f75b4de0",
   "metadata": {},
   "outputs": [],
   "source": []
  },
  {
   "cell_type": "code",
   "execution_count": null,
   "id": "64f578fb-4dab-4a1d-a964-3c03e7b501b9",
   "metadata": {},
   "outputs": [],
   "source": []
  },
  {
   "cell_type": "code",
   "execution_count": null,
   "id": "06deac29-0297-4e52-86e8-925768b54863",
   "metadata": {},
   "outputs": [],
   "source": []
  },
  {
   "cell_type": "code",
   "execution_count": null,
   "id": "8a4d4e35-226e-4d20-894c-404e086158cf",
   "metadata": {},
   "outputs": [],
   "source": []
  }
 ],
 "metadata": {
  "kernelspec": {
   "display_name": "Python 3",
   "language": "python",
   "name": "python3"
  },
  "language_info": {
   "codemirror_mode": {
    "name": "ipython",
    "version": 3
   },
   "file_extension": ".py",
   "mimetype": "text/x-python",
   "name": "python",
   "nbconvert_exporter": "python",
   "pygments_lexer": "ipython3",
   "version": "3.8.3"
  }
 },
 "nbformat": 4,
 "nbformat_minor": 5
}
